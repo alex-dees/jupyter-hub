{
 "cells": [
  {
   "cell_type": "code",
   "execution_count": null,
   "id": "5e3affd7",
   "metadata": {},
   "outputs": [],
   "source": [
    "#pip install boto3\n",
    "!pip install awswrangler"
   ]
  },
  {
   "cell_type": "code",
   "execution_count": null,
   "id": "77b582c9",
   "metadata": {},
   "outputs": [],
   "source": [
    "import boto3\n",
    "import awswrangler as wr\n",
    "\n",
    "boto3.setup_default_session(region_name=\"us-east-1\")\n",
    "\n",
    "db = \"dev\"\n",
    "user = \"test_user\"\n",
    "cluster = \"jhub-cluster\""
   ]
  },
  {
   "cell_type": "code",
   "execution_count": null,
   "id": "8cf7b4e9",
   "metadata": {},
   "outputs": [],
   "source": [
    "rs_con = wr.data_api.redshift.connect(\n",
    "    cluster_id=cluster,\n",
    "    database=db,\n",
    "    db_user=user\n",
    "    #db_user=\"jhubadmin\"\n",
    ")\n",
    "df = wr.data_api.redshift.read_sql_query(\n",
    "    sql=\"select top 10 * from public.names_2010_census\",\n",
    "    con=rs_con\n",
    ")\n",
    "df.head()"
   ]
  },
  {
   "cell_type": "code",
   "execution_count": null,
   "id": "52282a54",
   "metadata": {},
   "outputs": [],
   "source": [
    "#rs = boto3.client('redshift')\n",
    "#creds = rs.get_cluster_credentials(\n",
    "#    DbUser = user,\n",
    "#    DbName = db,\n",
    "#    ClusterIdentifier = cluster,\n",
    "#    AutoCreate=False\n",
    "#)\n",
    "#print(creds)"
   ]
  },
  {
   "cell_type": "code",
   "execution_count": null,
   "id": "523d7899",
   "metadata": {},
   "outputs": [],
   "source": [
    "rsd = boto3.client('redshift-data')\n",
    "response = rsd.execute_statement(\n",
    "    ClusterIdentifier = cluster,\n",
    "    Database = db,\n",
    "    DbUser = user,\n",
    "    #Sql = 'create table test(x int)'\n",
    "    Sql = 'select top 10 * from public.names_2010_census'\n",
    ")\n",
    "#print(response)\n",
    "id = response['Id']\n",
    "\n",
    "desc = None\n",
    "done = [\"ABORTED\",\"FAILED\",\"FINISHED\"]\n",
    "\n",
    "while True:\n",
    "    desc = rsd.describe_statement(Id=id)\n",
    "    if desc[\"Status\"] in done:\n",
    "        break\n",
    "        \n",
    "print(desc[\"Status\"])\n",
    "\n",
    "#if desc[\"Status\"] == \"FINISHED\" and desc[\"ResultRows\"] > 0:\n",
    "#    result = rsd.get_statement_result(Id=id)\n",
    "#    print(result)\n",
    "\n"
   ]
  }
 ],
 "metadata": {
  "kernelspec": {
   "display_name": "Python 3 (ipykernel)",
   "language": "python",
   "name": "python3"
  },
  "language_info": {
   "codemirror_mode": {
    "name": "ipython",
    "version": 3
   },
   "file_extension": ".py",
   "mimetype": "text/x-python",
   "name": "python",
   "nbconvert_exporter": "python",
   "pygments_lexer": "ipython3",
   "version": "3.9.7"
  }
 },
 "nbformat": 4,
 "nbformat_minor": 5
}
